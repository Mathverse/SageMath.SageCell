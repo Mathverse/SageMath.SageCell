{
 "metadata": {
  "name": ""
 },
 "nbformat": 3,
 "nbformat_minor": 0,
 "worksheets": [
  {
   "cells": [
    {
     "cell_type": "code",
     "collapsed": false,
     "input": [
      "%pylab inline"
     ],
     "language": "python",
     "metadata": {},
     "outputs": []
    },
    {
     "cell_type": "code",
     "collapsed": false,
     "input": [
      "#grep -v '\"::1\", \"\", \"service\",' s.log > s2.log\n",
      "#mv s2.log s.log\n",
      "\n",
      "\n",
      "import json\n",
      "from datetime import datetime\n",
      "def parseline(line):\n",
      "    a,b=line.split('[', 1)\n",
      "    c=a.split()\n",
      "    d = datetime.strptime(c[4]+c[5], \"%Y-%m-%d%H:%M:%S,%f\")\n",
      "    data = json.loads('['+b)\n",
      "    return [d, c[3], data[1], data[2], data[3]]\n",
      "\n",
      "\n",
      "lines = []\n",
      "i=0\n",
      "errors=0\n",
      "skipped=0\n",
      "import gc\n",
      "gc.disable()\n",
      "with open('s.log') as f:\n",
      "    for s in f:\n",
      "        s=s.rstrip()\n",
      "        i+=1\n",
      "        if i%100000==0: \n",
      "            print 'processing ',i,'lines'\n",
      "        #if i>10000: break\n",
      "        if s[-2:]!='\"]':\n",
      "            # ignore lines that don't end correctly\n",
      "            skipped+=1\n",
      "        try:\n",
      "            lines.append(parseline(s))\n",
      "        except Exception as E:\n",
      "            #print(i, E)\n",
      "            errors+=1\n",
      "gc.enable()\n",
      "print(\"Errors: \",errors)\n",
      "print(\"Skipped: \",skipped)\n",
      "print(\"Processed: \",i)"
     ],
     "language": "python",
     "metadata": {},
     "outputs": []
    },
    {
     "cell_type": "code",
     "collapsed": false,
     "input": [
      "len(lines)"
     ],
     "language": "python",
     "metadata": {},
     "outputs": []
    },
    {
     "cell_type": "code",
     "collapsed": false,
     "input": [
      "lines[0]"
     ],
     "language": "python",
     "metadata": {},
     "outputs": []
    },
    {
     "cell_type": "code",
     "collapsed": false,
     "input": [
      "import pandas\n",
      "#d=pandas.DataFrame(lines, index=columns=[\"time\", \"server\", \"ip\",\"url\",\"type\"])\n",
      "d=pandas.DataFrame.from_items(((l[0],l[1:]) for l in lines), \n",
      "                              columns=[\"server\", \"ip\",\"url\",\"type\"],\n",
      "                              orient='index').sort()\n",
      "d"
     ],
     "language": "python",
     "metadata": {},
     "outputs": []
    },
    {
     "cell_type": "code",
     "collapsed": false,
     "input": [
      "from datetime import datetime\n",
      "dec10=datetime(2013,12,10)\n",
      "dec11=datetime(2013,12,11)\n",
      "d_dec10=d.ix[dec10:dec11]"
     ],
     "language": "python",
     "metadata": {},
     "outputs": []
    },
    {
     "cell_type": "code",
     "collapsed": false,
     "input": [
      "d.groupby('ip').count().sort('ip',ascending=False)[:10]"
     ],
     "language": "python",
     "metadata": {},
     "outputs": []
    },
    {
     "cell_type": "code",
     "collapsed": false,
     "input": [
      "d.groupby('server').count()"
     ],
     "language": "python",
     "metadata": {},
     "outputs": []
    },
    {
     "cell_type": "code",
     "collapsed": false,
     "input": [
      "d.groupby('type').count()"
     ],
     "language": "python",
     "metadata": {},
     "outputs": []
    },
    {
     "cell_type": "code",
     "collapsed": false,
     "input": [
      "d[d.url.str.contains('^(http|https)://[^.]*.ups.edu')]"
     ],
     "language": "python",
     "metadata": {},
     "outputs": []
    },
    {
     "cell_type": "code",
     "collapsed": false,
     "input": [
      "notsagecell=d[~d.url.str.contains('^(http|https)://[^.]*.sagemath.org')]\n",
      "print(len(notsagecell))\n",
      "c=notsagecell.groupby('url').count().sort('url',ascending=False).take([0],axis=1)\n",
      "print(len(c))\n",
      "c[:500]"
     ],
     "language": "python",
     "metadata": {},
     "outputs": []
    },
    {
     "cell_type": "code",
     "collapsed": false,
     "input": [
      "d.groupby('url').count().sort('url', ascending=False).take([0],axis=1)[:100]"
     ],
     "language": "python",
     "metadata": {},
     "outputs": []
    },
    {
     "cell_type": "code",
     "collapsed": false,
     "input": [
      "daily=d['type'].resample('1D',how='count')\n",
      "print(daily.describe())\n",
      "daily.plot(kind='kde')"
     ],
     "language": "python",
     "metadata": {},
     "outputs": []
    },
    {
     "cell_type": "code",
     "collapsed": false,
     "input": [
      "daily.plot()"
     ],
     "language": "python",
     "metadata": {},
     "outputs": []
    },
    {
     "cell_type": "code",
     "collapsed": false,
     "input": [
      "pandas.set_option('display.max_rows', 500)"
     ],
     "language": "python",
     "metadata": {},
     "outputs": []
    },
    {
     "cell_type": "code",
     "collapsed": false,
     "input": [],
     "language": "python",
     "metadata": {},
     "outputs": []
    }
   ],
   "metadata": {}
  }
 ]
}
